{
  "nbformat": 4,
  "nbformat_minor": 0,
  "metadata": {
    "colab": {
      "provenance": [],
      "gpuType": "T4"
    },
    "kernelspec": {
      "name": "python3",
      "display_name": "Python 3"
    },
    "language_info": {
      "name": "python"
    },
    "accelerator": "GPU"
  },
  "cells": [
    {
      "cell_type": "markdown",
      "source": [
        "Kelompok :\n",
        "1. Muhammad Daffa Ferdiansyah (1301200076)\n",
        "2. Muhammad Naufal (1301204134)"
      ],
      "metadata": {
        "id": "wSTY6YBdkkEr"
      }
    },
    {
      "cell_type": "code",
      "source": [
        "!gdown --id 153pqz0gNo81AJpwjv4wNvxmJkrJGECua\n",
        "!gdown --id 1NEi7maB7JAR-JnRTeQQoG8tu7OG3R5kQ\n",
        "!gdown --id 1Le4113bC9lGKGjo9rwV5qpsDtVbZF5ip"
      ],
      "metadata": {
        "colab": {
          "base_uri": "https://localhost:8080/"
        },
        "id": "mm4N16xVsJZA",
        "outputId": "36d4c6a1-d0b0-4e33-e044-b63578d48ab3"
      },
      "execution_count": null,
      "outputs": [
        {
          "output_type": "stream",
          "name": "stdout",
          "text": [
            "/usr/local/lib/python3.10/dist-packages/gdown/cli.py:121: FutureWarning: Option `--id` was deprecated in version 4.3.1 and will be removed in 5.0. You don't need to pass it anymore to use a file ID.\n",
            "  warnings.warn(\n",
            "Downloading...\n",
            "From: https://drive.google.com/uc?id=153pqz0gNo81AJpwjv4wNvxmJkrJGECua\n",
            "To: /content/seg_pred.zip\n",
            "100% 108M/108M [00:03<00:00, 32.9MB/s]\n",
            "/usr/local/lib/python3.10/dist-packages/gdown/cli.py:121: FutureWarning: Option `--id` was deprecated in version 4.3.1 and will be removed in 5.0. You don't need to pass it anymore to use a file ID.\n",
            "  warnings.warn(\n",
            "Downloading...\n",
            "From: https://drive.google.com/uc?id=1NEi7maB7JAR-JnRTeQQoG8tu7OG3R5kQ\n",
            "To: /content/seg_train.zip\n",
            "100% 209M/209M [00:07<00:00, 29.5MB/s]\n",
            "/usr/local/lib/python3.10/dist-packages/gdown/cli.py:121: FutureWarning: Option `--id` was deprecated in version 4.3.1 and will be removed in 5.0. You don't need to pass it anymore to use a file ID.\n",
            "  warnings.warn(\n",
            "Downloading...\n",
            "From: https://drive.google.com/uc?id=1Le4113bC9lGKGjo9rwV5qpsDtVbZF5ip\n",
            "To: /content/seg_test.zip\n",
            "100% 44.5M/44.5M [00:01<00:00, 33.3MB/s]\n"
          ]
        }
      ]
    },
    {
      "cell_type": "code",
      "execution_count": null,
      "metadata": {
        "colab": {
          "base_uri": "https://localhost:8080/"
        },
        "id": "qjzdlanxoNOF",
        "outputId": "2eae1c5c-6e95-4e15-a007-40bcd2c9548b"
      },
      "outputs": [
        {
          "output_type": "stream",
          "name": "stdout",
          "text": [
            "Collecting torch-summary\n",
            "  Downloading torch_summary-1.4.5-py3-none-any.whl (16 kB)\n",
            "Installing collected packages: torch-summary\n",
            "Successfully installed torch-summary-1.4.5\n",
            "\u001b[2K     \u001b[90m━━━━━━━━━━━━━━━━━━━━━━━━━━━━━━━━━━━━━━━━\u001b[0m \u001b[32m77.1/77.1 kB\u001b[0m \u001b[31m2.7 MB/s\u001b[0m eta \u001b[36m0:00:00\u001b[0m\n",
            "\u001b[2K     \u001b[90m━━━━━━━━━━━━━━━━━━━━━━━━━━━━━━━━━━━━━━━━\u001b[0m \u001b[32m115.3/115.3 kB\u001b[0m \u001b[31m8.2 MB/s\u001b[0m eta \u001b[36m0:00:00\u001b[0m\n",
            "\u001b[2K     \u001b[90m━━━━━━━━━━━━━━━━━━━━━━━━━━━━━━━━━━━━━━━━\u001b[0m \u001b[32m62.5/62.5 kB\u001b[0m \u001b[31m8.3 MB/s\u001b[0m eta \u001b[36m0:00:00\u001b[0m\n",
            "\u001b[2K     \u001b[90m━━━━━━━━━━━━━━━━━━━━━━━━━━━━━━━━━━━━━━━━\u001b[0m \u001b[32m78.6/78.6 kB\u001b[0m \u001b[31m8.4 MB/s\u001b[0m eta \u001b[36m0:00:00\u001b[0m\n",
            "\u001b[?25h  Preparing metadata (setup.py) ... \u001b[?25l\u001b[?25hdone\n",
            "\u001b[2K     \u001b[90m━━━━━━━━━━━━━━━━━━━━━━━━━━━━━━━━━━━━━━━━\u001b[0m \u001b[32m204.0/204.0 kB\u001b[0m \u001b[31m12.4 MB/s\u001b[0m eta \u001b[36m0:00:00\u001b[0m\n",
            "\u001b[2K     \u001b[90m━━━━━━━━━━━━━━━━━━━━━━━━━━━━━━━━━━━━━━━━\u001b[0m \u001b[32m4.4/4.4 MB\u001b[0m \u001b[31m22.3 MB/s\u001b[0m eta \u001b[36m0:00:00\u001b[0m\n",
            "\u001b[2K     \u001b[90m━━━━━━━━━━━━━━━━━━━━━━━━━━━━━━━━━━━━━━━━\u001b[0m \u001b[32m1.6/1.6 MB\u001b[0m \u001b[31m34.1 MB/s\u001b[0m eta \u001b[36m0:00:00\u001b[0m\n",
            "\u001b[2K     \u001b[90m━━━━━━━━━━━━━━━━━━━━━━━━━━━━━━━━━━━━━━━━\u001b[0m \u001b[32m98.9/98.9 kB\u001b[0m \u001b[31m13.4 MB/s\u001b[0m eta \u001b[36m0:00:00\u001b[0m\n",
            "\u001b[2K     \u001b[90m━━━━━━━━━━━━━━━━━━━━━━━━━━━━━━━━━━━━━━━━\u001b[0m \u001b[32m3.8/3.8 MB\u001b[0m \u001b[31m55.2 MB/s\u001b[0m eta \u001b[36m0:00:00\u001b[0m\n",
            "\u001b[2K     \u001b[90m━━━━━━━━━━━━━━━━━━━━━━━━━━━━━━━━━━━━━━━━\u001b[0m \u001b[32m30.6/30.6 MB\u001b[0m \u001b[31m52.3 MB/s\u001b[0m eta \u001b[36m0:00:00\u001b[0m\n",
            "\u001b[2K     \u001b[90m━━━━━━━━━━━━━━━━━━━━━━━━━━━━━━━━━━━━━━━━\u001b[0m \u001b[32m169.4/169.4 kB\u001b[0m \u001b[31m22.9 MB/s\u001b[0m eta \u001b[36m0:00:00\u001b[0m\n",
            "\u001b[2K     \u001b[90m━━━━━━━━━━━━━━━━━━━━━━━━━━━━━━━━━━━━━━━━\u001b[0m \u001b[32m3.4/3.4 MB\u001b[0m \u001b[31m106.8 MB/s\u001b[0m eta \u001b[36m0:00:00\u001b[0m\n",
            "\u001b[2K     \u001b[90m━━━━━━━━━━━━━━━━━━━━━━━━━━━━━━━━━━━━━━━━\u001b[0m \u001b[32m468.9/468.9 kB\u001b[0m \u001b[31m52.8 MB/s\u001b[0m eta \u001b[36m0:00:00\u001b[0m\n",
            "\u001b[?25h  Building wheel for typing (setup.py) ... \u001b[?25l\u001b[?25hdone\n"
          ]
        }
      ],
      "source": [
        "!pip install torch-summary\n",
        "!pip install -U -q torch_snippets"
      ]
    },
    {
      "cell_type": "code",
      "source": [
        "import torch\n",
        "from torch import nn\n",
        "import torchvision\n",
        "import seaborn as sns\n",
        "from torch.nn import functional as F\n",
        "device = 'cuda' if torch.cuda.is_available() else 'cpu'\n",
        "from torch.utils.data import Dataset, DataLoader\n",
        "from torch_snippets import *\n",
        "from torchvision import transforms\n",
        "from PIL import Image\n",
        "from torchsummary import summary\n",
        "from torchvision import transforms,models,datasets\n",
        "\n",
        "import random\n",
        "import numpy as np\n",
        "import matplotlib.pyplot as plt\n",
        "import os\n",
        "import cv2\n",
        "import zipfile"
      ],
      "metadata": {
        "id": "qk1XqROIrJ2O"
      },
      "execution_count": null,
      "outputs": []
    },
    {
      "cell_type": "code",
      "source": [
        "class CustomDataset(Dataset):\n",
        "    def __init__(self , transform , root_dir , split = 'Training' ):\n",
        "        self.root_dir = os.path.join(root_dir , split)\n",
        "        self.categories = os.listdir(self.root_dir)\n",
        "        self.transform = transform\n",
        "        self.split = split\n",
        "        self.data = self.load_data()\n",
        "\n",
        "    def load_data(self):\n",
        "        data = []\n",
        "        for i , category in enumerate(self.categories):\n",
        "            category_path = os.path.join(self.root_dir , category)\n",
        "            for file_name in os.listdir(category_path):\n",
        "                img_path = os.path.join(category_path , file_name)\n",
        "                data.append([img_path , i])\n",
        "        return data\n",
        "\n",
        "    def __len__(self):\n",
        "        return len(self.data)\n",
        "\n",
        "    def __getitem__(self , idx):\n",
        "        img_path , label = self.data[idx]\n",
        "        image = Image.open(img_path).convert(\"RGB\")\n",
        "        label = torch.tensor(label)\n",
        "        if self.transform:\n",
        "            image = self.transform(image)\n",
        "        else :\n",
        "            image = transforms.ToTensor()(image)\n",
        "\n",
        "        return image.to(device) , label.to(device)"
      ],
      "metadata": {
        "id": "cSjdHyflrd_C"
      },
      "execution_count": null,
      "outputs": []
    },
    {
      "cell_type": "code",
      "source": [
        "local_zip = '/content/seg_pred.zip'\n",
        "zip_ref = zipfile.ZipFile(local_zip, 'r')\n",
        "zip_ref.extractall('/dataset')\n",
        "zip_ref.close()"
      ],
      "metadata": {
        "id": "h4M9htuwsBca"
      },
      "execution_count": null,
      "outputs": []
    },
    {
      "cell_type": "code",
      "source": [
        "local_zip = '/content/seg_train.zip'\n",
        "zip_ref = zipfile.ZipFile(local_zip, 'r')\n",
        "zip_ref.extractall('/dataset')\n",
        "zip_ref.close()"
      ],
      "metadata": {
        "id": "i-cvp4_Rt28O"
      },
      "execution_count": null,
      "outputs": []
    },
    {
      "cell_type": "code",
      "source": [
        "local_zip = '/content/seg_test.zip'\n",
        "zip_ref = zipfile.ZipFile(local_zip, 'r')\n",
        "zip_ref.extractall('/dataset')\n",
        "zip_ref.close()"
      ],
      "metadata": {
        "id": "9zZzg3e6t6mz"
      },
      "execution_count": null,
      "outputs": []
    },
    {
      "cell_type": "code",
      "source": [
        "ROOT_DIR = 'dataset/'"
      ],
      "metadata": {
        "id": "dnjSW6SYssQj"
      },
      "execution_count": null,
      "outputs": []
    },
    {
      "cell_type": "code",
      "source": [
        "transform = transforms.Compose([\n",
        "    transforms.Resize((224, 224)),\n",
        "    transforms.RandomHorizontalFlip(),\n",
        "    transforms.RandomRotation(10),\n",
        "    transforms.ToTensor(),\n",
        "    transforms.Normalize(mean=[0.485,0.456, 0.406],std=[0.229, 0.224, 0.225]),\n",
        "])\n",
        "\n",
        "train_dataset = CustomDataset(transform , root_dir=ROOT_DIR, split='/dataset/seg_train')\n",
        "test_dataset = CustomDataset(transform, root_dir=ROOT_DIR, split='/dataset/seg_test')"
      ],
      "metadata": {
        "id": "XP8k3z_tsESp"
      },
      "execution_count": null,
      "outputs": []
    },
    {
      "cell_type": "code",
      "source": [
        "int2id = {0 : 'mountain', 1 : 'street', 2: 'buildings', 3 :'sea', 4 : 'forest', 5: 'glacier' }"
      ],
      "metadata": {
        "id": "swAVQRIFuzmL"
      },
      "execution_count": null,
      "outputs": []
    },
    {
      "cell_type": "code",
      "source": [
        "batch_size = 64\n",
        "train_loader = DataLoader(train_dataset, batch_size=batch_size, shuffle=True)\n",
        "val_loader = DataLoader(test_dataset, batch_size=batch_size, shuffle=False)"
      ],
      "metadata": {
        "id": "nZsxjN5-u7Gw"
      },
      "execution_count": null,
      "outputs": []
    },
    {
      "cell_type": "code",
      "source": [
        "model = Imodel = models.resnet18(pretrained=True)\n",
        "for param in model.parameters():\n",
        "    param.requires_grad = False\n",
        "model.fc = nn.Sequential(nn.Flatten(),\n",
        "                        nn.Linear(512, 128),\n",
        "                        nn.ReLU(),\n",
        "                        nn.Dropout(0.2),\n",
        "                        nn.Linear(128, len(int2id)))\n",
        "model = model.to(device)"
      ],
      "metadata": {
        "colab": {
          "base_uri": "https://localhost:8080/"
        },
        "id": "ud-FC3Stu9-5",
        "outputId": "52206d05-59fe-43c7-8cbb-1281ce7a97d1"
      },
      "execution_count": null,
      "outputs": [
        {
          "output_type": "stream",
          "name": "stderr",
          "text": [
            "/usr/local/lib/python3.10/dist-packages/torchvision/models/_utils.py:208: UserWarning: The parameter 'pretrained' is deprecated since 0.13 and may be removed in the future, please use 'weights' instead.\n",
            "  warnings.warn(\n",
            "/usr/local/lib/python3.10/dist-packages/torchvision/models/_utils.py:223: UserWarning: Arguments other than a weight enum or `None` for 'weights' are deprecated since 0.13 and may be removed in the future. The current behavior is equivalent to passing `weights=ResNet18_Weights.IMAGENET1K_V1`. You can also use `weights=ResNet18_Weights.DEFAULT` to get the most up-to-date weights.\n",
            "  warnings.warn(msg)\n",
            "Downloading: \"https://download.pytorch.org/models/resnet18-f37072fd.pth\" to /root/.cache/torch/hub/checkpoints/resnet18-f37072fd.pth\n",
            "100%|██████████| 44.7M/44.7M [00:00<00:00, 56.0MB/s]\n"
          ]
        }
      ]
    },
    {
      "cell_type": "code",
      "source": [
        "model"
      ],
      "metadata": {
        "colab": {
          "base_uri": "https://localhost:8080/"
        },
        "id": "3IRmul4BvNo0",
        "outputId": "7a5ffbbc-6d9f-4bd4-df0c-11b92a56ac8a"
      },
      "execution_count": null,
      "outputs": [
        {
          "output_type": "execute_result",
          "data": {
            "text/plain": [
              "ResNet(\n",
              "  (conv1): Conv2d(3, 64, kernel_size=(7, 7), stride=(2, 2), padding=(3, 3), bias=False)\n",
              "  (bn1): BatchNorm2d(64, eps=1e-05, momentum=0.1, affine=True, track_running_stats=True)\n",
              "  (relu): ReLU(inplace=True)\n",
              "  (maxpool): MaxPool2d(kernel_size=3, stride=2, padding=1, dilation=1, ceil_mode=False)\n",
              "  (layer1): Sequential(\n",
              "    (0): BasicBlock(\n",
              "      (conv1): Conv2d(64, 64, kernel_size=(3, 3), stride=(1, 1), padding=(1, 1), bias=False)\n",
              "      (bn1): BatchNorm2d(64, eps=1e-05, momentum=0.1, affine=True, track_running_stats=True)\n",
              "      (relu): ReLU(inplace=True)\n",
              "      (conv2): Conv2d(64, 64, kernel_size=(3, 3), stride=(1, 1), padding=(1, 1), bias=False)\n",
              "      (bn2): BatchNorm2d(64, eps=1e-05, momentum=0.1, affine=True, track_running_stats=True)\n",
              "    )\n",
              "    (1): BasicBlock(\n",
              "      (conv1): Conv2d(64, 64, kernel_size=(3, 3), stride=(1, 1), padding=(1, 1), bias=False)\n",
              "      (bn1): BatchNorm2d(64, eps=1e-05, momentum=0.1, affine=True, track_running_stats=True)\n",
              "      (relu): ReLU(inplace=True)\n",
              "      (conv2): Conv2d(64, 64, kernel_size=(3, 3), stride=(1, 1), padding=(1, 1), bias=False)\n",
              "      (bn2): BatchNorm2d(64, eps=1e-05, momentum=0.1, affine=True, track_running_stats=True)\n",
              "    )\n",
              "  )\n",
              "  (layer2): Sequential(\n",
              "    (0): BasicBlock(\n",
              "      (conv1): Conv2d(64, 128, kernel_size=(3, 3), stride=(2, 2), padding=(1, 1), bias=False)\n",
              "      (bn1): BatchNorm2d(128, eps=1e-05, momentum=0.1, affine=True, track_running_stats=True)\n",
              "      (relu): ReLU(inplace=True)\n",
              "      (conv2): Conv2d(128, 128, kernel_size=(3, 3), stride=(1, 1), padding=(1, 1), bias=False)\n",
              "      (bn2): BatchNorm2d(128, eps=1e-05, momentum=0.1, affine=True, track_running_stats=True)\n",
              "      (downsample): Sequential(\n",
              "        (0): Conv2d(64, 128, kernel_size=(1, 1), stride=(2, 2), bias=False)\n",
              "        (1): BatchNorm2d(128, eps=1e-05, momentum=0.1, affine=True, track_running_stats=True)\n",
              "      )\n",
              "    )\n",
              "    (1): BasicBlock(\n",
              "      (conv1): Conv2d(128, 128, kernel_size=(3, 3), stride=(1, 1), padding=(1, 1), bias=False)\n",
              "      (bn1): BatchNorm2d(128, eps=1e-05, momentum=0.1, affine=True, track_running_stats=True)\n",
              "      (relu): ReLU(inplace=True)\n",
              "      (conv2): Conv2d(128, 128, kernel_size=(3, 3), stride=(1, 1), padding=(1, 1), bias=False)\n",
              "      (bn2): BatchNorm2d(128, eps=1e-05, momentum=0.1, affine=True, track_running_stats=True)\n",
              "    )\n",
              "  )\n",
              "  (layer3): Sequential(\n",
              "    (0): BasicBlock(\n",
              "      (conv1): Conv2d(128, 256, kernel_size=(3, 3), stride=(2, 2), padding=(1, 1), bias=False)\n",
              "      (bn1): BatchNorm2d(256, eps=1e-05, momentum=0.1, affine=True, track_running_stats=True)\n",
              "      (relu): ReLU(inplace=True)\n",
              "      (conv2): Conv2d(256, 256, kernel_size=(3, 3), stride=(1, 1), padding=(1, 1), bias=False)\n",
              "      (bn2): BatchNorm2d(256, eps=1e-05, momentum=0.1, affine=True, track_running_stats=True)\n",
              "      (downsample): Sequential(\n",
              "        (0): Conv2d(128, 256, kernel_size=(1, 1), stride=(2, 2), bias=False)\n",
              "        (1): BatchNorm2d(256, eps=1e-05, momentum=0.1, affine=True, track_running_stats=True)\n",
              "      )\n",
              "    )\n",
              "    (1): BasicBlock(\n",
              "      (conv1): Conv2d(256, 256, kernel_size=(3, 3), stride=(1, 1), padding=(1, 1), bias=False)\n",
              "      (bn1): BatchNorm2d(256, eps=1e-05, momentum=0.1, affine=True, track_running_stats=True)\n",
              "      (relu): ReLU(inplace=True)\n",
              "      (conv2): Conv2d(256, 256, kernel_size=(3, 3), stride=(1, 1), padding=(1, 1), bias=False)\n",
              "      (bn2): BatchNorm2d(256, eps=1e-05, momentum=0.1, affine=True, track_running_stats=True)\n",
              "    )\n",
              "  )\n",
              "  (layer4): Sequential(\n",
              "    (0): BasicBlock(\n",
              "      (conv1): Conv2d(256, 512, kernel_size=(3, 3), stride=(2, 2), padding=(1, 1), bias=False)\n",
              "      (bn1): BatchNorm2d(512, eps=1e-05, momentum=0.1, affine=True, track_running_stats=True)\n",
              "      (relu): ReLU(inplace=True)\n",
              "      (conv2): Conv2d(512, 512, kernel_size=(3, 3), stride=(1, 1), padding=(1, 1), bias=False)\n",
              "      (bn2): BatchNorm2d(512, eps=1e-05, momentum=0.1, affine=True, track_running_stats=True)\n",
              "      (downsample): Sequential(\n",
              "        (0): Conv2d(256, 512, kernel_size=(1, 1), stride=(2, 2), bias=False)\n",
              "        (1): BatchNorm2d(512, eps=1e-05, momentum=0.1, affine=True, track_running_stats=True)\n",
              "      )\n",
              "    )\n",
              "    (1): BasicBlock(\n",
              "      (conv1): Conv2d(512, 512, kernel_size=(3, 3), stride=(1, 1), padding=(1, 1), bias=False)\n",
              "      (bn1): BatchNorm2d(512, eps=1e-05, momentum=0.1, affine=True, track_running_stats=True)\n",
              "      (relu): ReLU(inplace=True)\n",
              "      (conv2): Conv2d(512, 512, kernel_size=(3, 3), stride=(1, 1), padding=(1, 1), bias=False)\n",
              "      (bn2): BatchNorm2d(512, eps=1e-05, momentum=0.1, affine=True, track_running_stats=True)\n",
              "    )\n",
              "  )\n",
              "  (avgpool): AdaptiveAvgPool2d(output_size=(1, 1))\n",
              "  (fc): Sequential(\n",
              "    (0): Flatten(start_dim=1, end_dim=-1)\n",
              "    (1): Linear(in_features=512, out_features=128, bias=True)\n",
              "    (2): ReLU()\n",
              "    (3): Dropout(p=0.2, inplace=False)\n",
              "    (4): Linear(in_features=128, out_features=6, bias=True)\n",
              "  )\n",
              ")"
            ]
          },
          "metadata": {},
          "execution_count": 13
        }
      ]
    },
    {
      "cell_type": "code",
      "source": [
        "optimizer = torch.optim.Adam(model.parameters() , lr = 0.001)\n",
        "criterion = nn.CrossEntropyLoss()"
      ],
      "metadata": {
        "id": "wB9jHkb4vR9J"
      },
      "execution_count": null,
      "outputs": []
    },
    {
      "cell_type": "code",
      "source": [
        "train_losses = []\n",
        "val_losses = []\n",
        "train_accuracies = []\n",
        "val_accuracies = []"
      ],
      "metadata": {
        "id": "qAX2r-6cXnG8"
      },
      "execution_count": null,
      "outputs": []
    },
    {
      "cell_type": "code",
      "source": [
        "num_epochs = 20\n",
        "best_val_accuracy = 0.0\n",
        "\n",
        "for epoch in range(num_epochs):\n",
        "    model.train()\n",
        "    train_loss = 0.0\n",
        "    correct = 0\n",
        "    total = 0\n",
        "\n",
        "    for batch_idx, (inputs, labels) in enumerate(train_loader):\n",
        "        optimizer.zero_grad()\n",
        "        outputs = model(inputs)\n",
        "        loss = criterion(outputs, labels)\n",
        "        loss.backward()\n",
        "        optimizer.step()\n",
        "\n",
        "        train_loss += loss.item()\n",
        "        _, predicted = torch.max(outputs , 1)\n",
        "        total += labels.size(0)\n",
        "        correct += (predicted == labels).sum().item()\n",
        "\n",
        "    train_accuracy = correct / total\n",
        "    train_losses.append(train_loss)\n",
        "    train_accuracies.append(train_accuracy)\n",
        "\n",
        "    model.eval()\n",
        "    val_loss = 0.0\n",
        "    correct = 0\n",
        "    total = 0\n",
        "    with torch.no_grad():\n",
        "\n",
        "        for batch_idx, (inputs, labels) in enumerate(val_loader):\n",
        "            outputs = model(inputs)\n",
        "            loss = criterion(outputs, labels)\n",
        "\n",
        "            val_loss += loss.item()\n",
        "            _, predicted = torch.max(outputs , 1)\n",
        "            total += labels.size(0)\n",
        "            correct += (predicted == labels).sum().item()\n",
        "\n",
        "    val_accuracy = correct / total\n",
        "    val_losses.append(val_loss)\n",
        "    val_accuracies.append(val_accuracy)\n",
        "\n",
        "    print(f'Epoch [{epoch+1}/{num_epochs}], '\n",
        "          f'Training Loss: {train_loss:.4f}, Training Accuracy: {train_accuracy:.2%}, '\n",
        "          f'Validation Loss: {val_loss:.4f}, Validation Accuracy: {val_accuracy:.2%}')"
      ],
      "metadata": {
        "colab": {
          "base_uri": "https://localhost:8080/",
          "height": 657
        },
        "id": "rq5R36v4Xu4H",
        "outputId": "497eb5db-2e39-4378-f3d0-326d39188cb2"
      },
      "execution_count": null,
      "outputs": [
        {
          "output_type": "display_data",
          "data": {
            "text/plain": [
              "Epoch \u001b[1m[\u001b[0m\u001b[1;36m1\u001b[0m/\u001b[1;36m20\u001b[0m\u001b[1m]\u001b[0m, Training Loss: \u001b[1;36m114.4742\u001b[0m, Training Accuracy: \u001b[1;36m81.72\u001b[0m%, Validation Loss: \u001b[1;36m14.9902\u001b[0m, Validation Accuracy: \n",
              "\u001b[1;36m88.60\u001b[0m%\n"
            ],
            "text/html": [
              "<pre style=\"white-space:pre;overflow-x:auto;line-height:normal;font-family:Menlo,'DejaVu Sans Mono',consolas,'Courier New',monospace\">Epoch <span style=\"font-weight: bold\">[</span><span style=\"color: #008080; text-decoration-color: #008080; font-weight: bold\">1</span>/<span style=\"color: #008080; text-decoration-color: #008080; font-weight: bold\">20</span><span style=\"font-weight: bold\">]</span>, Training Loss: <span style=\"color: #008080; text-decoration-color: #008080; font-weight: bold\">114.4742</span>, Training Accuracy: <span style=\"color: #008080; text-decoration-color: #008080; font-weight: bold\">81.72</span>%, Validation Loss: <span style=\"color: #008080; text-decoration-color: #008080; font-weight: bold\">14.9902</span>, Validation Accuracy: \n",
              "<span style=\"color: #008080; text-decoration-color: #008080; font-weight: bold\">88.60</span>%\n",
              "</pre>\n"
            ]
          },
          "metadata": {}
        },
        {
          "output_type": "display_data",
          "data": {
            "text/plain": [
              "Epoch \u001b[1m[\u001b[0m\u001b[1;36m2\u001b[0m/\u001b[1;36m20\u001b[0m\u001b[1m]\u001b[0m, Training Loss: \u001b[1;36m76.8951\u001b[0m, Training Accuracy: \u001b[1;36m87.25\u001b[0m%, Validation Loss: \u001b[1;36m13.1973\u001b[0m, Validation Accuracy: \n",
              "\u001b[1;36m89.53\u001b[0m%\n"
            ],
            "text/html": [
              "<pre style=\"white-space:pre;overflow-x:auto;line-height:normal;font-family:Menlo,'DejaVu Sans Mono',consolas,'Courier New',monospace\">Epoch <span style=\"font-weight: bold\">[</span><span style=\"color: #008080; text-decoration-color: #008080; font-weight: bold\">2</span>/<span style=\"color: #008080; text-decoration-color: #008080; font-weight: bold\">20</span><span style=\"font-weight: bold\">]</span>, Training Loss: <span style=\"color: #008080; text-decoration-color: #008080; font-weight: bold\">76.8951</span>, Training Accuracy: <span style=\"color: #008080; text-decoration-color: #008080; font-weight: bold\">87.25</span>%, Validation Loss: <span style=\"color: #008080; text-decoration-color: #008080; font-weight: bold\">13.1973</span>, Validation Accuracy: \n",
              "<span style=\"color: #008080; text-decoration-color: #008080; font-weight: bold\">89.53</span>%\n",
              "</pre>\n"
            ]
          },
          "metadata": {}
        },
        {
          "output_type": "display_data",
          "data": {
            "text/plain": [
              "Epoch \u001b[1m[\u001b[0m\u001b[1;36m3\u001b[0m/\u001b[1;36m20\u001b[0m\u001b[1m]\u001b[0m, Training Loss: \u001b[1;36m71.6233\u001b[0m, Training Accuracy: \u001b[1;36m87.87\u001b[0m%, Validation Loss: \u001b[1;36m13.0967\u001b[0m, Validation Accuracy: \n",
              "\u001b[1;36m89.43\u001b[0m%\n"
            ],
            "text/html": [
              "<pre style=\"white-space:pre;overflow-x:auto;line-height:normal;font-family:Menlo,'DejaVu Sans Mono',consolas,'Courier New',monospace\">Epoch <span style=\"font-weight: bold\">[</span><span style=\"color: #008080; text-decoration-color: #008080; font-weight: bold\">3</span>/<span style=\"color: #008080; text-decoration-color: #008080; font-weight: bold\">20</span><span style=\"font-weight: bold\">]</span>, Training Loss: <span style=\"color: #008080; text-decoration-color: #008080; font-weight: bold\">71.6233</span>, Training Accuracy: <span style=\"color: #008080; text-decoration-color: #008080; font-weight: bold\">87.87</span>%, Validation Loss: <span style=\"color: #008080; text-decoration-color: #008080; font-weight: bold\">13.0967</span>, Validation Accuracy: \n",
              "<span style=\"color: #008080; text-decoration-color: #008080; font-weight: bold\">89.43</span>%\n",
              "</pre>\n"
            ]
          },
          "metadata": {}
        },
        {
          "output_type": "display_data",
          "data": {
            "text/plain": [
              "Epoch \u001b[1m[\u001b[0m\u001b[1;36m4\u001b[0m/\u001b[1;36m20\u001b[0m\u001b[1m]\u001b[0m, Training Loss: \u001b[1;36m68.7532\u001b[0m, Training Accuracy: \u001b[1;36m88.46\u001b[0m%, Validation Loss: \u001b[1;36m13.7592\u001b[0m, Validation Accuracy: \n",
              "\u001b[1;36m88.73\u001b[0m%\n"
            ],
            "text/html": [
              "<pre style=\"white-space:pre;overflow-x:auto;line-height:normal;font-family:Menlo,'DejaVu Sans Mono',consolas,'Courier New',monospace\">Epoch <span style=\"font-weight: bold\">[</span><span style=\"color: #008080; text-decoration-color: #008080; font-weight: bold\">4</span>/<span style=\"color: #008080; text-decoration-color: #008080; font-weight: bold\">20</span><span style=\"font-weight: bold\">]</span>, Training Loss: <span style=\"color: #008080; text-decoration-color: #008080; font-weight: bold\">68.7532</span>, Training Accuracy: <span style=\"color: #008080; text-decoration-color: #008080; font-weight: bold\">88.46</span>%, Validation Loss: <span style=\"color: #008080; text-decoration-color: #008080; font-weight: bold\">13.7592</span>, Validation Accuracy: \n",
              "<span style=\"color: #008080; text-decoration-color: #008080; font-weight: bold\">88.73</span>%\n",
              "</pre>\n"
            ]
          },
          "metadata": {}
        },
        {
          "output_type": "display_data",
          "data": {
            "text/plain": [
              "Epoch \u001b[1m[\u001b[0m\u001b[1;36m5\u001b[0m/\u001b[1;36m20\u001b[0m\u001b[1m]\u001b[0m, Training Loss: \u001b[1;36m64.8766\u001b[0m, Training Accuracy: \u001b[1;36m89.09\u001b[0m%, Validation Loss: \u001b[1;36m14.8766\u001b[0m, Validation Accuracy: \n",
              "\u001b[1;36m87.80\u001b[0m%\n"
            ],
            "text/html": [
              "<pre style=\"white-space:pre;overflow-x:auto;line-height:normal;font-family:Menlo,'DejaVu Sans Mono',consolas,'Courier New',monospace\">Epoch <span style=\"font-weight: bold\">[</span><span style=\"color: #008080; text-decoration-color: #008080; font-weight: bold\">5</span>/<span style=\"color: #008080; text-decoration-color: #008080; font-weight: bold\">20</span><span style=\"font-weight: bold\">]</span>, Training Loss: <span style=\"color: #008080; text-decoration-color: #008080; font-weight: bold\">64.8766</span>, Training Accuracy: <span style=\"color: #008080; text-decoration-color: #008080; font-weight: bold\">89.09</span>%, Validation Loss: <span style=\"color: #008080; text-decoration-color: #008080; font-weight: bold\">14.8766</span>, Validation Accuracy: \n",
              "<span style=\"color: #008080; text-decoration-color: #008080; font-weight: bold\">87.80</span>%\n",
              "</pre>\n"
            ]
          },
          "metadata": {}
        },
        {
          "output_type": "display_data",
          "data": {
            "text/plain": [
              "Epoch \u001b[1m[\u001b[0m\u001b[1;36m6\u001b[0m/\u001b[1;36m20\u001b[0m\u001b[1m]\u001b[0m, Training Loss: \u001b[1;36m63.2463\u001b[0m, Training Accuracy: \u001b[1;36m89.35\u001b[0m%, Validation Loss: \u001b[1;36m12.9294\u001b[0m, Validation Accuracy: \n",
              "\u001b[1;36m89.83\u001b[0m%\n"
            ],
            "text/html": [
              "<pre style=\"white-space:pre;overflow-x:auto;line-height:normal;font-family:Menlo,'DejaVu Sans Mono',consolas,'Courier New',monospace\">Epoch <span style=\"font-weight: bold\">[</span><span style=\"color: #008080; text-decoration-color: #008080; font-weight: bold\">6</span>/<span style=\"color: #008080; text-decoration-color: #008080; font-weight: bold\">20</span><span style=\"font-weight: bold\">]</span>, Training Loss: <span style=\"color: #008080; text-decoration-color: #008080; font-weight: bold\">63.2463</span>, Training Accuracy: <span style=\"color: #008080; text-decoration-color: #008080; font-weight: bold\">89.35</span>%, Validation Loss: <span style=\"color: #008080; text-decoration-color: #008080; font-weight: bold\">12.9294</span>, Validation Accuracy: \n",
              "<span style=\"color: #008080; text-decoration-color: #008080; font-weight: bold\">89.83</span>%\n",
              "</pre>\n"
            ]
          },
          "metadata": {}
        },
        {
          "output_type": "display_data",
          "data": {
            "text/plain": [
              "Epoch \u001b[1m[\u001b[0m\u001b[1;36m7\u001b[0m/\u001b[1;36m20\u001b[0m\u001b[1m]\u001b[0m, Training Loss: \u001b[1;36m63.0766\u001b[0m, Training Accuracy: \u001b[1;36m89.13\u001b[0m%, Validation Loss: \u001b[1;36m12.2239\u001b[0m, Validation Accuracy: \n",
              "\u001b[1;36m89.33\u001b[0m%\n"
            ],
            "text/html": [
              "<pre style=\"white-space:pre;overflow-x:auto;line-height:normal;font-family:Menlo,'DejaVu Sans Mono',consolas,'Courier New',monospace\">Epoch <span style=\"font-weight: bold\">[</span><span style=\"color: #008080; text-decoration-color: #008080; font-weight: bold\">7</span>/<span style=\"color: #008080; text-decoration-color: #008080; font-weight: bold\">20</span><span style=\"font-weight: bold\">]</span>, Training Loss: <span style=\"color: #008080; text-decoration-color: #008080; font-weight: bold\">63.0766</span>, Training Accuracy: <span style=\"color: #008080; text-decoration-color: #008080; font-weight: bold\">89.13</span>%, Validation Loss: <span style=\"color: #008080; text-decoration-color: #008080; font-weight: bold\">12.2239</span>, Validation Accuracy: \n",
              "<span style=\"color: #008080; text-decoration-color: #008080; font-weight: bold\">89.33</span>%\n",
              "</pre>\n"
            ]
          },
          "metadata": {}
        },
        {
          "output_type": "display_data",
          "data": {
            "text/plain": [
              "Epoch \u001b[1m[\u001b[0m\u001b[1;36m8\u001b[0m/\u001b[1;36m20\u001b[0m\u001b[1m]\u001b[0m, Training Loss: \u001b[1;36m61.1138\u001b[0m, Training Accuracy: \u001b[1;36m89.51\u001b[0m%, Validation Loss: \u001b[1;36m12.7531\u001b[0m, Validation Accuracy: \n",
              "\u001b[1;36m90.50\u001b[0m%\n"
            ],
            "text/html": [
              "<pre style=\"white-space:pre;overflow-x:auto;line-height:normal;font-family:Menlo,'DejaVu Sans Mono',consolas,'Courier New',monospace\">Epoch <span style=\"font-weight: bold\">[</span><span style=\"color: #008080; text-decoration-color: #008080; font-weight: bold\">8</span>/<span style=\"color: #008080; text-decoration-color: #008080; font-weight: bold\">20</span><span style=\"font-weight: bold\">]</span>, Training Loss: <span style=\"color: #008080; text-decoration-color: #008080; font-weight: bold\">61.1138</span>, Training Accuracy: <span style=\"color: #008080; text-decoration-color: #008080; font-weight: bold\">89.51</span>%, Validation Loss: <span style=\"color: #008080; text-decoration-color: #008080; font-weight: bold\">12.7531</span>, Validation Accuracy: \n",
              "<span style=\"color: #008080; text-decoration-color: #008080; font-weight: bold\">90.50</span>%\n",
              "</pre>\n"
            ]
          },
          "metadata": {}
        },
        {
          "output_type": "display_data",
          "data": {
            "text/plain": [
              "Epoch \u001b[1m[\u001b[0m\u001b[1;36m9\u001b[0m/\u001b[1;36m20\u001b[0m\u001b[1m]\u001b[0m, Training Loss: \u001b[1;36m59.9840\u001b[0m, Training Accuracy: \u001b[1;36m89.74\u001b[0m%, Validation Loss: \u001b[1;36m12.4641\u001b[0m, Validation Accuracy: \n",
              "\u001b[1;36m90.20\u001b[0m%\n"
            ],
            "text/html": [
              "<pre style=\"white-space:pre;overflow-x:auto;line-height:normal;font-family:Menlo,'DejaVu Sans Mono',consolas,'Courier New',monospace\">Epoch <span style=\"font-weight: bold\">[</span><span style=\"color: #008080; text-decoration-color: #008080; font-weight: bold\">9</span>/<span style=\"color: #008080; text-decoration-color: #008080; font-weight: bold\">20</span><span style=\"font-weight: bold\">]</span>, Training Loss: <span style=\"color: #008080; text-decoration-color: #008080; font-weight: bold\">59.9840</span>, Training Accuracy: <span style=\"color: #008080; text-decoration-color: #008080; font-weight: bold\">89.74</span>%, Validation Loss: <span style=\"color: #008080; text-decoration-color: #008080; font-weight: bold\">12.4641</span>, Validation Accuracy: \n",
              "<span style=\"color: #008080; text-decoration-color: #008080; font-weight: bold\">90.20</span>%\n",
              "</pre>\n"
            ]
          },
          "metadata": {}
        },
        {
          "output_type": "display_data",
          "data": {
            "text/plain": [
              "Epoch \u001b[1m[\u001b[0m\u001b[1;36m10\u001b[0m/\u001b[1;36m20\u001b[0m\u001b[1m]\u001b[0m, Training Loss: \u001b[1;36m58.6194\u001b[0m, Training Accuracy: \u001b[1;36m89.86\u001b[0m%, Validation Loss: \u001b[1;36m13.2418\u001b[0m, Validation Accuracy: \n",
              "\u001b[1;36m89.27\u001b[0m%\n"
            ],
            "text/html": [
              "<pre style=\"white-space:pre;overflow-x:auto;line-height:normal;font-family:Menlo,'DejaVu Sans Mono',consolas,'Courier New',monospace\">Epoch <span style=\"font-weight: bold\">[</span><span style=\"color: #008080; text-decoration-color: #008080; font-weight: bold\">10</span>/<span style=\"color: #008080; text-decoration-color: #008080; font-weight: bold\">20</span><span style=\"font-weight: bold\">]</span>, Training Loss: <span style=\"color: #008080; text-decoration-color: #008080; font-weight: bold\">58.6194</span>, Training Accuracy: <span style=\"color: #008080; text-decoration-color: #008080; font-weight: bold\">89.86</span>%, Validation Loss: <span style=\"color: #008080; text-decoration-color: #008080; font-weight: bold\">13.2418</span>, Validation Accuracy: \n",
              "<span style=\"color: #008080; text-decoration-color: #008080; font-weight: bold\">89.27</span>%\n",
              "</pre>\n"
            ]
          },
          "metadata": {}
        },
        {
          "output_type": "display_data",
          "data": {
            "text/plain": [
              "Epoch \u001b[1m[\u001b[0m\u001b[1;36m11\u001b[0m/\u001b[1;36m20\u001b[0m\u001b[1m]\u001b[0m, Training Loss: \u001b[1;36m58.6333\u001b[0m, Training Accuracy: \u001b[1;36m89.85\u001b[0m%, Validation Loss: \u001b[1;36m12.4593\u001b[0m, Validation Accuracy: \n",
              "\u001b[1;36m89.67\u001b[0m%\n"
            ],
            "text/html": [
              "<pre style=\"white-space:pre;overflow-x:auto;line-height:normal;font-family:Menlo,'DejaVu Sans Mono',consolas,'Courier New',monospace\">Epoch <span style=\"font-weight: bold\">[</span><span style=\"color: #008080; text-decoration-color: #008080; font-weight: bold\">11</span>/<span style=\"color: #008080; text-decoration-color: #008080; font-weight: bold\">20</span><span style=\"font-weight: bold\">]</span>, Training Loss: <span style=\"color: #008080; text-decoration-color: #008080; font-weight: bold\">58.6333</span>, Training Accuracy: <span style=\"color: #008080; text-decoration-color: #008080; font-weight: bold\">89.85</span>%, Validation Loss: <span style=\"color: #008080; text-decoration-color: #008080; font-weight: bold\">12.4593</span>, Validation Accuracy: \n",
              "<span style=\"color: #008080; text-decoration-color: #008080; font-weight: bold\">89.67</span>%\n",
              "</pre>\n"
            ]
          },
          "metadata": {}
        },
        {
          "output_type": "display_data",
          "data": {
            "text/plain": [
              "Epoch \u001b[1m[\u001b[0m\u001b[1;36m12\u001b[0m/\u001b[1;36m20\u001b[0m\u001b[1m]\u001b[0m, Training Loss: \u001b[1;36m59.3924\u001b[0m, Training Accuracy: \u001b[1;36m90.02\u001b[0m%, Validation Loss: \u001b[1;36m11.6456\u001b[0m, Validation Accuracy: \n",
              "\u001b[1;36m90.40\u001b[0m%\n"
            ],
            "text/html": [
              "<pre style=\"white-space:pre;overflow-x:auto;line-height:normal;font-family:Menlo,'DejaVu Sans Mono',consolas,'Courier New',monospace\">Epoch <span style=\"font-weight: bold\">[</span><span style=\"color: #008080; text-decoration-color: #008080; font-weight: bold\">12</span>/<span style=\"color: #008080; text-decoration-color: #008080; font-weight: bold\">20</span><span style=\"font-weight: bold\">]</span>, Training Loss: <span style=\"color: #008080; text-decoration-color: #008080; font-weight: bold\">59.3924</span>, Training Accuracy: <span style=\"color: #008080; text-decoration-color: #008080; font-weight: bold\">90.02</span>%, Validation Loss: <span style=\"color: #008080; text-decoration-color: #008080; font-weight: bold\">11.6456</span>, Validation Accuracy: \n",
              "<span style=\"color: #008080; text-decoration-color: #008080; font-weight: bold\">90.40</span>%\n",
              "</pre>\n"
            ]
          },
          "metadata": {}
        },
        {
          "output_type": "display_data",
          "data": {
            "text/plain": [
              "Epoch \u001b[1m[\u001b[0m\u001b[1;36m13\u001b[0m/\u001b[1;36m20\u001b[0m\u001b[1m]\u001b[0m, Training Loss: \u001b[1;36m58.0511\u001b[0m, Training Accuracy: \u001b[1;36m90.09\u001b[0m%, Validation Loss: \u001b[1;36m11.8916\u001b[0m, Validation Accuracy: \n",
              "\u001b[1;36m90.37\u001b[0m%\n"
            ],
            "text/html": [
              "<pre style=\"white-space:pre;overflow-x:auto;line-height:normal;font-family:Menlo,'DejaVu Sans Mono',consolas,'Courier New',monospace\">Epoch <span style=\"font-weight: bold\">[</span><span style=\"color: #008080; text-decoration-color: #008080; font-weight: bold\">13</span>/<span style=\"color: #008080; text-decoration-color: #008080; font-weight: bold\">20</span><span style=\"font-weight: bold\">]</span>, Training Loss: <span style=\"color: #008080; text-decoration-color: #008080; font-weight: bold\">58.0511</span>, Training Accuracy: <span style=\"color: #008080; text-decoration-color: #008080; font-weight: bold\">90.09</span>%, Validation Loss: <span style=\"color: #008080; text-decoration-color: #008080; font-weight: bold\">11.8916</span>, Validation Accuracy: \n",
              "<span style=\"color: #008080; text-decoration-color: #008080; font-weight: bold\">90.37</span>%\n",
              "</pre>\n"
            ]
          },
          "metadata": {}
        },
        {
          "output_type": "display_data",
          "data": {
            "text/plain": [
              "Epoch \u001b[1m[\u001b[0m\u001b[1;36m14\u001b[0m/\u001b[1;36m20\u001b[0m\u001b[1m]\u001b[0m, Training Loss: \u001b[1;36m54.5667\u001b[0m, Training Accuracy: \u001b[1;36m90.79\u001b[0m%, Validation Loss: \u001b[1;36m12.7946\u001b[0m, Validation Accuracy: \n",
              "\u001b[1;36m90.30\u001b[0m%\n"
            ],
            "text/html": [
              "<pre style=\"white-space:pre;overflow-x:auto;line-height:normal;font-family:Menlo,'DejaVu Sans Mono',consolas,'Courier New',monospace\">Epoch <span style=\"font-weight: bold\">[</span><span style=\"color: #008080; text-decoration-color: #008080; font-weight: bold\">14</span>/<span style=\"color: #008080; text-decoration-color: #008080; font-weight: bold\">20</span><span style=\"font-weight: bold\">]</span>, Training Loss: <span style=\"color: #008080; text-decoration-color: #008080; font-weight: bold\">54.5667</span>, Training Accuracy: <span style=\"color: #008080; text-decoration-color: #008080; font-weight: bold\">90.79</span>%, Validation Loss: <span style=\"color: #008080; text-decoration-color: #008080; font-weight: bold\">12.7946</span>, Validation Accuracy: \n",
              "<span style=\"color: #008080; text-decoration-color: #008080; font-weight: bold\">90.30</span>%\n",
              "</pre>\n"
            ]
          },
          "metadata": {}
        },
        {
          "output_type": "display_data",
          "data": {
            "text/plain": [
              "Epoch \u001b[1m[\u001b[0m\u001b[1;36m15\u001b[0m/\u001b[1;36m20\u001b[0m\u001b[1m]\u001b[0m, Training Loss: \u001b[1;36m54.0000\u001b[0m, Training Accuracy: \u001b[1;36m90.69\u001b[0m%, Validation Loss: \u001b[1;36m11.7302\u001b[0m, Validation Accuracy: \n",
              "\u001b[1;36m90.10\u001b[0m%\n"
            ],
            "text/html": [
              "<pre style=\"white-space:pre;overflow-x:auto;line-height:normal;font-family:Menlo,'DejaVu Sans Mono',consolas,'Courier New',monospace\">Epoch <span style=\"font-weight: bold\">[</span><span style=\"color: #008080; text-decoration-color: #008080; font-weight: bold\">15</span>/<span style=\"color: #008080; text-decoration-color: #008080; font-weight: bold\">20</span><span style=\"font-weight: bold\">]</span>, Training Loss: <span style=\"color: #008080; text-decoration-color: #008080; font-weight: bold\">54.0000</span>, Training Accuracy: <span style=\"color: #008080; text-decoration-color: #008080; font-weight: bold\">90.69</span>%, Validation Loss: <span style=\"color: #008080; text-decoration-color: #008080; font-weight: bold\">11.7302</span>, Validation Accuracy: \n",
              "<span style=\"color: #008080; text-decoration-color: #008080; font-weight: bold\">90.10</span>%\n",
              "</pre>\n"
            ]
          },
          "metadata": {}
        },
        {
          "output_type": "display_data",
          "data": {
            "text/plain": [
              "Epoch \u001b[1m[\u001b[0m\u001b[1;36m16\u001b[0m/\u001b[1;36m20\u001b[0m\u001b[1m]\u001b[0m, Training Loss: \u001b[1;36m55.1959\u001b[0m, Training Accuracy: \u001b[1;36m90.27\u001b[0m%, Validation Loss: \u001b[1;36m11.8882\u001b[0m, Validation Accuracy: \n",
              "\u001b[1;36m90.00\u001b[0m%\n"
            ],
            "text/html": [
              "<pre style=\"white-space:pre;overflow-x:auto;line-height:normal;font-family:Menlo,'DejaVu Sans Mono',consolas,'Courier New',monospace\">Epoch <span style=\"font-weight: bold\">[</span><span style=\"color: #008080; text-decoration-color: #008080; font-weight: bold\">16</span>/<span style=\"color: #008080; text-decoration-color: #008080; font-weight: bold\">20</span><span style=\"font-weight: bold\">]</span>, Training Loss: <span style=\"color: #008080; text-decoration-color: #008080; font-weight: bold\">55.1959</span>, Training Accuracy: <span style=\"color: #008080; text-decoration-color: #008080; font-weight: bold\">90.27</span>%, Validation Loss: <span style=\"color: #008080; text-decoration-color: #008080; font-weight: bold\">11.8882</span>, Validation Accuracy: \n",
              "<span style=\"color: #008080; text-decoration-color: #008080; font-weight: bold\">90.00</span>%\n",
              "</pre>\n"
            ]
          },
          "metadata": {}
        },
        {
          "output_type": "display_data",
          "data": {
            "text/plain": [
              "Epoch \u001b[1m[\u001b[0m\u001b[1;36m17\u001b[0m/\u001b[1;36m20\u001b[0m\u001b[1m]\u001b[0m, Training Loss: \u001b[1;36m53.5672\u001b[0m, Training Accuracy: \u001b[1;36m90.56\u001b[0m%, Validation Loss: \u001b[1;36m11.6407\u001b[0m, Validation Accuracy: \n",
              "\u001b[1;36m90.07\u001b[0m%\n"
            ],
            "text/html": [
              "<pre style=\"white-space:pre;overflow-x:auto;line-height:normal;font-family:Menlo,'DejaVu Sans Mono',consolas,'Courier New',monospace\">Epoch <span style=\"font-weight: bold\">[</span><span style=\"color: #008080; text-decoration-color: #008080; font-weight: bold\">17</span>/<span style=\"color: #008080; text-decoration-color: #008080; font-weight: bold\">20</span><span style=\"font-weight: bold\">]</span>, Training Loss: <span style=\"color: #008080; text-decoration-color: #008080; font-weight: bold\">53.5672</span>, Training Accuracy: <span style=\"color: #008080; text-decoration-color: #008080; font-weight: bold\">90.56</span>%, Validation Loss: <span style=\"color: #008080; text-decoration-color: #008080; font-weight: bold\">11.6407</span>, Validation Accuracy: \n",
              "<span style=\"color: #008080; text-decoration-color: #008080; font-weight: bold\">90.07</span>%\n",
              "</pre>\n"
            ]
          },
          "metadata": {}
        },
        {
          "output_type": "display_data",
          "data": {
            "text/plain": [
              "Epoch \u001b[1m[\u001b[0m\u001b[1;36m18\u001b[0m/\u001b[1;36m20\u001b[0m\u001b[1m]\u001b[0m, Training Loss: \u001b[1;36m54.0274\u001b[0m, Training Accuracy: \u001b[1;36m90.92\u001b[0m%, Validation Loss: \u001b[1;36m11.4049\u001b[0m, Validation Accuracy: \n",
              "\u001b[1;36m90.37\u001b[0m%\n"
            ],
            "text/html": [
              "<pre style=\"white-space:pre;overflow-x:auto;line-height:normal;font-family:Menlo,'DejaVu Sans Mono',consolas,'Courier New',monospace\">Epoch <span style=\"font-weight: bold\">[</span><span style=\"color: #008080; text-decoration-color: #008080; font-weight: bold\">18</span>/<span style=\"color: #008080; text-decoration-color: #008080; font-weight: bold\">20</span><span style=\"font-weight: bold\">]</span>, Training Loss: <span style=\"color: #008080; text-decoration-color: #008080; font-weight: bold\">54.0274</span>, Training Accuracy: <span style=\"color: #008080; text-decoration-color: #008080; font-weight: bold\">90.92</span>%, Validation Loss: <span style=\"color: #008080; text-decoration-color: #008080; font-weight: bold\">11.4049</span>, Validation Accuracy: \n",
              "<span style=\"color: #008080; text-decoration-color: #008080; font-weight: bold\">90.37</span>%\n",
              "</pre>\n"
            ]
          },
          "metadata": {}
        },
        {
          "output_type": "display_data",
          "data": {
            "text/plain": [
              "Epoch \u001b[1m[\u001b[0m\u001b[1;36m19\u001b[0m/\u001b[1;36m20\u001b[0m\u001b[1m]\u001b[0m, Training Loss: \u001b[1;36m52.0186\u001b[0m, Training Accuracy: \u001b[1;36m91.07\u001b[0m%, Validation Loss: \u001b[1;36m11.7272\u001b[0m, Validation Accuracy: \n",
              "\u001b[1;36m90.83\u001b[0m%\n"
            ],
            "text/html": [
              "<pre style=\"white-space:pre;overflow-x:auto;line-height:normal;font-family:Menlo,'DejaVu Sans Mono',consolas,'Courier New',monospace\">Epoch <span style=\"font-weight: bold\">[</span><span style=\"color: #008080; text-decoration-color: #008080; font-weight: bold\">19</span>/<span style=\"color: #008080; text-decoration-color: #008080; font-weight: bold\">20</span><span style=\"font-weight: bold\">]</span>, Training Loss: <span style=\"color: #008080; text-decoration-color: #008080; font-weight: bold\">52.0186</span>, Training Accuracy: <span style=\"color: #008080; text-decoration-color: #008080; font-weight: bold\">91.07</span>%, Validation Loss: <span style=\"color: #008080; text-decoration-color: #008080; font-weight: bold\">11.7272</span>, Validation Accuracy: \n",
              "<span style=\"color: #008080; text-decoration-color: #008080; font-weight: bold\">90.83</span>%\n",
              "</pre>\n"
            ]
          },
          "metadata": {}
        },
        {
          "output_type": "display_data",
          "data": {
            "text/plain": [
              "Epoch \u001b[1m[\u001b[0m\u001b[1;36m20\u001b[0m/\u001b[1;36m20\u001b[0m\u001b[1m]\u001b[0m, Training Loss: \u001b[1;36m53.2344\u001b[0m, Training Accuracy: \u001b[1;36m91.20\u001b[0m%, Validation Loss: \u001b[1;36m11.4631\u001b[0m, Validation Accuracy: \n",
              "\u001b[1;36m91.17\u001b[0m%\n"
            ],
            "text/html": [
              "<pre style=\"white-space:pre;overflow-x:auto;line-height:normal;font-family:Menlo,'DejaVu Sans Mono',consolas,'Courier New',monospace\">Epoch <span style=\"font-weight: bold\">[</span><span style=\"color: #008080; text-decoration-color: #008080; font-weight: bold\">20</span>/<span style=\"color: #008080; text-decoration-color: #008080; font-weight: bold\">20</span><span style=\"font-weight: bold\">]</span>, Training Loss: <span style=\"color: #008080; text-decoration-color: #008080; font-weight: bold\">53.2344</span>, Training Accuracy: <span style=\"color: #008080; text-decoration-color: #008080; font-weight: bold\">91.20</span>%, Validation Loss: <span style=\"color: #008080; text-decoration-color: #008080; font-weight: bold\">11.4631</span>, Validation Accuracy: \n",
              "<span style=\"color: #008080; text-decoration-color: #008080; font-weight: bold\">91.17</span>%\n",
              "</pre>\n"
            ]
          },
          "metadata": {}
        }
      ]
    },
    {
      "cell_type": "code",
      "source": [
        "%matplotlib inline\n",
        "\n",
        "import matplotlib.image  as mpimg\n",
        "import matplotlib.pyplot as plt\n",
        "\n",
        "#-----------------------------------------------------------\n",
        "# Retrieve a list of list results on training and test data\n",
        "# sets for each training epoch\n",
        "#-----------------------------------------------------------\n",
        "\n",
        "acc=train_accuracies\n",
        "val_acc=val_accuracies\n",
        "loss=train_losses\n",
        "val_loss=val_losses\n",
        "\n",
        "epochs=range(len(acc)) # Get number of epochs\n",
        "\n",
        "#------------------------------------------------\n",
        "# Plot training and validation accuracy per epoch\n",
        "#------------------------------------------------\n",
        "plt.plot(epochs, acc, 'r', \"Training Accuracy\")\n",
        "plt.plot(epochs, val_acc, 'b', \"Validation Accuracy\")\n",
        "plt.title('Training and validation accuracy')\n",
        "plt.figure()\n",
        "\n",
        "#------------------------------------------------\n",
        "# Plot training and validation loss per epoch\n",
        "#------------------------------------------------\n",
        "plt.plot(epochs, loss, 'r', \"Training Loss\")\n",
        "plt.plot(epochs, val_loss, 'b', \"Validation Loss\")\n",
        "\n",
        "\n",
        "plt.title('Training and validation loss')"
      ],
      "metadata": {
        "colab": {
          "base_uri": "https://localhost:8080/",
          "height": 905
        },
        "id": "F9vAEkeNYb_i",
        "outputId": "69b543ff-a787-4307-902e-0b91642a8b1c"
      },
      "execution_count": null,
      "outputs": [
        {
          "output_type": "execute_result",
          "data": {
            "text/plain": [
              "Text(0.5, 1.0, 'Training and validation loss')"
            ]
          },
          "metadata": {},
          "execution_count": 17
        },
        {
          "output_type": "display_data",
          "data": {
            "text/plain": [
              "<Figure size 640x480 with 1 Axes>"
            ],
            "image/png": "[encoded data removed]"
          },
          "metadata": {}
        },
        {
          "output_type": "display_data",
          "data": {
            "text/plain": [
              "<Figure size 640x480 with 1 Axes>"
            ],
            "image/png": "[encoded data removed]"
          },
          "metadata": {}
        }
      ]
    }
  ]
}